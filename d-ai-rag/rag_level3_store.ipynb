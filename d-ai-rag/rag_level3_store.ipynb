{
 "cells": [
  {
   "cell_type": "markdown",
   "metadata": {},
   "source": [
    "# RAG demo level 3"
   ]
  },
  {
   "cell_type": "code",
   "execution_count": 1,
   "metadata": {},
   "outputs": [
    {
     "name": "stdout",
     "output_type": "stream",
     "text": [
      "Using sql-graphrag-psbv.database.windows.net as the database server\n",
      "Using https://graphrag-psbv.openai.azure.com/ as the embedding model endpoint\n",
      "Using https://graphrag-psbv.openai.azure.com/ as the gpt-4o-mini model endpoint\n",
      "Using https://graphrag-psbv.openai.azure.com/ as the gpt-4o model endpoint\n"
     ]
    }
   ],
   "source": [
    "import subprocess\n",
    "import os\n",
    "import json\n",
    "\n",
    "original_dir = os.getcwd()\n",
    "try:\n",
    "    # Jump into the terraform directory\n",
    "    os.chdir('terraform')\n",
    "\n",
    "    # Get the database connection string\n",
    "    SQL_DATABASE = subprocess.run(['terraform', 'output', '-raw', 'SQL_DATABASE'], stdout=subprocess.PIPE).stdout.decode('utf-8')\n",
    "    SQL_USERNAME = subprocess.run(['terraform', 'output', '-raw', 'SQL_USERNAME'], stdout=subprocess.PIPE).stdout.decode('utf-8')\n",
    "    SQL_PASSWORD = subprocess.run(['terraform', 'output', '-raw', 'SQL_PASSWORD'], stdout=subprocess.PIPE).stdout.decode('utf-8')\n",
    "    SQL_SERVER_FQDN = subprocess.run(['terraform', 'output', '-raw', 'SQL_SERVER_FQDN'], stdout=subprocess.PIPE).stdout.decode('utf-8')\n",
    "\n",
    "    # Get the embedding model endpoint and key\n",
    "    model_configurations = subprocess.run(['terraform', 'output', '-raw', 'model_configurations'], stdout=subprocess.PIPE).stdout.decode('utf-8')\n",
    "    model_config = json.loads(model_configurations)\n",
    "    embedding_model = model_config[\"models\"][\"text-embedding-3-large\"]\n",
    "    EMBEDDINGS_ENDPOINT = embedding_model[\"endpoint\"]\n",
    "    EMBEDDINGS_KEY = embedding_model[\"key\"]\n",
    "    gpt_4o_mini_model = model_config[\"models\"][\"gpt-4o-mini\"]\n",
    "    GPT_4O_MINI_ENDPOINT = gpt_4o_mini_model[\"endpoint\"]\n",
    "    GPT_4O_MINI_KEY = gpt_4o_mini_model[\"key\"]\n",
    "    gpt_4o_model = model_config[\"models\"][\"gpt-4o\"]\n",
    "    GPT_4O_ENDPOINT = gpt_4o_model[\"endpoint\"]\n",
    "    GPT_4O_KEY = gpt_4o_model[\"key\"]\n",
    "\n",
    "    print(f\"Using {SQL_SERVER_FQDN} as the database server\")\n",
    "    print(f\"Using {EMBEDDINGS_ENDPOINT} as the embedding model endpoint\")\n",
    "    print(f\"Using {GPT_4O_MINI_ENDPOINT} as the gpt-4o-mini model endpoint\")\n",
    "    print(f\"Using {GPT_4O_ENDPOINT} as the gpt-4o model endpoint\")\n",
    "\n",
    "finally:\n",
    "    os.chdir(original_dir)"
   ]
  },
  {
   "cell_type": "code",
   "execution_count": 2,
   "metadata": {},
   "outputs": [],
   "source": [
    "from openai import AzureOpenAI \n",
    "import pandas as pd\n",
    "from mssql_python import connect\n",
    "\n",
    "conn_str = f\"SERVER={SQL_SERVER_FQDN};DATABASE={SQL_DATABASE};UID={SQL_USERNAME};PWD={SQL_PASSWORD};Encrypt=yes;\"\n",
    "conn = connect(conn_str)\n",
    "\n",
    "gpt_embedding_client = AzureOpenAI(\n",
    "    azure_endpoint=EMBEDDINGS_ENDPOINT,\n",
    "    api_key=EMBEDDINGS_KEY,\n",
    "    api_version=\"2025-02-01-preview\",\n",
    ")\n",
    "\n",
    "gpt_4o_client = AzureOpenAI(  \n",
    "    azure_endpoint=GPT_4O_ENDPOINT,  \n",
    "    api_key=GPT_4O_KEY,  \n",
    "    api_version=\"2024-05-01-preview\",\n",
    ")\n",
    "\n",
    "gpt_4o_mini_client = AzureOpenAI(\n",
    "    azure_endpoint=GPT_4O_MINI_ENDPOINT,  \n",
    "    api_key=GPT_4O_MINI_KEY,  \n",
    "    api_version=\"2024-05-01-preview\",\n",
    ")"
   ]
  },
  {
   "cell_type": "markdown",
   "metadata": {},
   "source": [
    "Create nodes"
   ]
  },
  {
   "cell_type": "code",
   "execution_count": 3,
   "metadata": {},
   "outputs": [],
   "source": [
    "command = \"\"\"\n",
    "IF NOT EXISTS (SELECT * FROM sys.objects WHERE object_id = OBJECT_ID(N'[dbo].[Movie]') AND type in (N'U'))\n",
    "BEGIN\n",
    "    CREATE TABLE [dbo].[Movie]\n",
    "    (\n",
    "        [Id] INT PRIMARY KEY,\n",
    "        [Name] VARCHAR(200) NOT NULL,\n",
    "        [Content] VARCHAR(5000) NULL,\n",
    "        [Embedding] VECTOR(1998) NULL\n",
    "    ) AS NODE;\n",
    "END\n",
    "\n",
    "IF NOT EXISTS (SELECT * FROM sys.objects WHERE object_id = OBJECT_ID(N'[dbo].[Character]') AND type in (N'U'))\n",
    "BEGIN\n",
    "    CREATE TABLE [dbo].[Character]\n",
    "    (\n",
    "        [Id] INT PRIMARY KEY,\n",
    "        [Name] VARCHAR(200) NOT NULL,\n",
    "        [Content] VARCHAR(5000) NULL,\n",
    "        [Embedding] VECTOR(1998) NULL\n",
    "    ) AS NODE;\n",
    "END\n",
    "\n",
    "IF NOT EXISTS (SELECT * FROM sys.objects WHERE object_id = OBJECT_ID(N'[dbo].[Theme]') AND type in (N'U'))\n",
    "BEGIN\n",
    "    CREATE TABLE [dbo].[Theme]\n",
    "    (\n",
    "        [Id] INT PRIMARY KEY,\n",
    "        [Name] VARCHAR(200) NOT NULL,\n",
    "        [Content] VARCHAR(5000) NULL,\n",
    "        [Embedding] VECTOR(1998) NULL\n",
    "    ) AS NODE;\n",
    "END\n",
    "\n",
    "IF NOT EXISTS (SELECT * FROM sys.objects WHERE object_id = OBJECT_ID(N'[dbo].[Setting]') AND type in (N'U'))\n",
    "BEGIN\n",
    "    CREATE TABLE [dbo].[Setting]\n",
    "    (\n",
    "        [Id] INT PRIMARY KEY,\n",
    "        [Name] VARCHAR(200) NOT NULL,\n",
    "        [Content] VARCHAR(5000) NULL,\n",
    "        [Embedding] VECTOR(1998) NULL\n",
    "    ) AS NODE;\n",
    "END\n",
    "\n",
    "IF NOT EXISTS (SELECT * FROM sys.objects WHERE object_id = OBJECT_ID(N'[dbo].[Series]') AND type in (N'U'))\n",
    "BEGIN\n",
    "    CREATE TABLE [dbo].[Series]\n",
    "    (\n",
    "        [Id] INT PRIMARY KEY,\n",
    "        [Name] VARCHAR(200) NOT NULL,\n",
    "        [Content] VARCHAR(5000) NULL,\n",
    "        [Embedding] VECTOR(1998) NULL\n",
    "    ) AS NODE;\n",
    "END\n",
    "\n",
    "IF NOT EXISTS (SELECT * FROM sys.objects WHERE object_id = OBJECT_ID(N'[dbo].[Genre]') AND type in (N'U'))\n",
    "BEGIN\n",
    "    CREATE TABLE [dbo].[Genre]\n",
    "    (\n",
    "        [Id] INT PRIMARY KEY,\n",
    "        [Name] VARCHAR(200) NOT NULL,\n",
    "        [Content] VARCHAR(5000) NULL,\n",
    "        [Embedding] VECTOR(1998) NULL\n",
    "    ) AS NODE;\n",
    "END\n",
    "\"\"\"\n",
    "\n",
    "cursor = conn.cursor()\n",
    "cursor.execute(command)"
   ]
  },
  {
   "cell_type": "markdown",
   "metadata": {},
   "source": [
    "Load from file"
   ]
  },
  {
   "cell_type": "code",
   "execution_count": 4,
   "metadata": {},
   "outputs": [
    {
     "name": "stdout",
     "output_type": "stream",
     "text": [
      "Loaded 8551 movies\n"
     ]
    }
   ],
   "source": [
    "movies_df = pd.read_json(\"data/movies_graph.json\", orient=\"records\")\n",
    "print(f\"Loaded {len(movies_df)} movies\")"
   ]
  },
  {
   "cell_type": "markdown",
   "metadata": {},
   "source": [
    "Embedding function"
   ]
  },
  {
   "cell_type": "code",
   "execution_count": 5,
   "metadata": {},
   "outputs": [],
   "source": [
    "max_retries = 20\n",
    "retry_delay = 10\n",
    "\n",
    "def get_embedding(text):\n",
    "    for attempt in range(1, max_retries + 1):\n",
    "        try:\n",
    "            result = gpt_embedding_client.embeddings.create(\n",
    "                input=text,\n",
    "                model=\"text-embedding-3-large\",\n",
    "                dimensions=1998,\n",
    "            )\n",
    "            break\n",
    "        except Exception as e:\n",
    "            if hasattr(e, \"status_code\") and e.status_code == 429:\n",
    "                print(f\"429 error encountered. Retry attempt {attempt} of {max_retries} in {retry_delay} seconds...\")\n",
    "                time.sleep(retry_delay)\n",
    "            else:\n",
    "                print(f\"Embedding generation error: {e}\")\n",
    "                raise e\n",
    "    return json.dumps(result.data[0].embedding)"
   ]
  },
  {
   "cell_type": "code",
   "execution_count": 6,
   "metadata": {},
   "outputs": [
    {
     "data": {
      "text/plain": [
       "str"
      ]
     },
     "execution_count": 6,
     "metadata": {},
     "output_type": "execute_result"
    }
   ],
   "source": [
    "type(get_embedding(\"test\"))"
   ]
  },
  {
   "cell_type": "code",
   "execution_count": null,
   "metadata": {},
   "outputs": [],
   "source": [
    "import concurrent.futures\n",
    "\n",
    "max_workers = 2\n",
    "\n",
    "def process_row(row):\n",
    "    movie_id = str(row['id'])\n",
    "    movie_name = str(row['title']) if row['title'] is not None else \"\"\n",
    "    movie_overview = str(row['overview']) if row['overview'] is not None else \"\"\n",
    "    movie_content = f\"TITLE: {movie_name} OVERVIEW: {movie_overview}\"\n",
    "    embedding = get_embedding(movie_content)\n",
    "\n",
    "    command = f\"\"\"\n",
    "    INSERT INTO [dbo].[Movie] ([Id], [Name], [Content], [Embedding])\n",
    "    VALUES (?, ?, ?, '{embedding}')\n",
    "    \"\"\"\n",
    "\n",
    "    local_cursor = conn.cursor() \n",
    "    local_cursor.execute(command, movie_id, movie_name, movie_content)\n",
    "    return movie_id\n",
    "\n",
    "with concurrent.futures.ThreadPoolExecutor(max_workers=max_workers) as executor:\n",
    "    futures = {executor.submit(process_row, row): idx for idx, row in movies_df.iterrows()}\n",
    "    completed = 0\n",
    "    for future in concurrent.futures.as_completed(futures):\n",
    "        try:\n",
    "            _ = future.result()\n",
    "        except Exception as e:\n",
    "            print(f\"Error processing row: {e}\")\n",
    "        completed += 1\n",
    "        if completed % 500 == 0:\n",
    "            print(f\"Inserted {completed}/{len(movies_df)} movies\")\n"
   ]
  }
 ],
 "metadata": {
  "kernelspec": {
   "display_name": ".venv",
   "language": "python",
   "name": "python3"
  },
  "language_info": {
   "codemirror_mode": {
    "name": "ipython",
    "version": 3
   },
   "file_extension": ".py",
   "mimetype": "text/x-python",
   "name": "python",
   "nbconvert_exporter": "python",
   "pygments_lexer": "ipython3",
   "version": "3.13.2"
  }
 },
 "nbformat": 4,
 "nbformat_minor": 2
}
