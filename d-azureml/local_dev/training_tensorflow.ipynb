{
 "cells": [
  {
   "cell_type": "markdown",
   "metadata": {},
   "source": [
    "# Interactive notebook used to prepare code parts for Azure ML"
   ]
  },
  {
   "cell_type": "markdown",
   "metadata": {},
   "source": [
    "### Tensorflow DNN"
   ]
  },
  {
   "cell_type": "markdown",
   "metadata": {},
   "source": [
    "### Load data"
   ]
  },
  {
   "cell_type": "code",
   "execution_count": 1,
   "metadata": {},
   "outputs": [],
   "source": [
    "import pandas as pd"
   ]
  },
  {
   "cell_type": "code",
   "execution_count": 2,
   "metadata": {},
   "outputs": [],
   "source": [
    "# Load raw data\n",
    "X_train = pd.read_csv(\"./X_train.csv\")\n",
    "X_test = pd.read_csv(\"./X_test.csv\") \n",
    "y_train = pd.read_csv(\"./y_train.csv\") \n",
    "y_test = pd.read_csv(\"./y_test.csv\") "
   ]
  },
  {
   "cell_type": "markdown",
   "metadata": {},
   "source": [
    "### Train model"
   ]
  },
  {
   "cell_type": "code",
   "execution_count": 14,
   "metadata": {},
   "outputs": [
    {
     "name": "stdout",
     "output_type": "stream",
     "text": [
      "Epoch 1/100\n",
      "1236/1236 [==============================] - 7s 5ms/step - loss: 0.2922 - accuracy: 0.8798 - precision: 0.8736 - val_loss: 0.2621 - val_accuracy: 0.8889 - val_precision: 0.8788\n",
      "Epoch 2/100\n",
      "1236/1236 [==============================] - 7s 6ms/step - loss: 0.2645 - accuracy: 0.8878 - precision: 0.8784 - val_loss: 0.2606 - val_accuracy: 0.8889 - val_precision: 0.8789\n",
      "Epoch 3/100\n",
      "1236/1236 [==============================] - 9s 7ms/step - loss: 0.2623 - accuracy: 0.8879 - precision: 0.8787 - val_loss: 0.2597 - val_accuracy: 0.8889 - val_precision: 0.8790\n",
      "Epoch 4/100\n",
      "1236/1236 [==============================] - 7s 6ms/step - loss: 0.2611 - accuracy: 0.8881 - precision: 0.8795 - val_loss: 0.2592 - val_accuracy: 0.8891 - val_precision: 0.8798\n",
      "Epoch 5/100\n",
      "1236/1236 [==============================] - 7s 6ms/step - loss: 0.2606 - accuracy: 0.8880 - precision: 0.8796 - val_loss: 0.2590 - val_accuracy: 0.8889 - val_precision: 0.8788\n",
      "Epoch 6/100\n",
      "1236/1236 [==============================] - 5s 4ms/step - loss: 0.2601 - accuracy: 0.8882 - precision: 0.8799 - val_loss: 0.2593 - val_accuracy: 0.8887 - val_precision: 0.8795\n",
      "Epoch 7/100\n",
      "1236/1236 [==============================] - 6s 5ms/step - loss: 0.2597 - accuracy: 0.8883 - precision: 0.8805 - val_loss: 0.2588 - val_accuracy: 0.8890 - val_precision: 0.8803\n",
      "Epoch 8/100\n",
      "1236/1236 [==============================] - 6s 4ms/step - loss: 0.2590 - accuracy: 0.8883 - precision: 0.8809 - val_loss: 0.2592 - val_accuracy: 0.8889 - val_precision: 0.8810\n",
      "Epoch 9/100\n",
      "1236/1236 [==============================] - 5s 4ms/step - loss: 0.2588 - accuracy: 0.8885 - precision: 0.8813 - val_loss: 0.2589 - val_accuracy: 0.8889 - val_precision: 0.8804\n",
      "Epoch 10/100\n",
      "1236/1236 [==============================] - 6s 4ms/step - loss: 0.2585 - accuracy: 0.8887 - precision: 0.8814 - val_loss: 0.2596 - val_accuracy: 0.8890 - val_precision: 0.8808\n",
      "Epoch 11/100\n",
      "1236/1236 [==============================] - 5s 4ms/step - loss: 0.2580 - accuracy: 0.8889 - precision: 0.8819 - val_loss: 0.2592 - val_accuracy: 0.8886 - val_precision: 0.8831\n",
      "Epoch 12/100\n",
      "1236/1236 [==============================] - 5s 4ms/step - loss: 0.2579 - accuracy: 0.8887 - precision: 0.8822 - val_loss: 0.2589 - val_accuracy: 0.8891 - val_precision: 0.8813\n",
      "Epoch 13/100\n",
      "1236/1236 [==============================] - 7s 6ms/step - loss: 0.2575 - accuracy: 0.8890 - precision: 0.8824 - val_loss: 0.2592 - val_accuracy: 0.8888 - val_precision: 0.8804\n",
      "Epoch 14/100\n",
      "1236/1236 [==============================] - 8s 6ms/step - loss: 0.2573 - accuracy: 0.8890 - precision: 0.8826 - val_loss: 0.2587 - val_accuracy: 0.8889 - val_precision: 0.8814\n",
      "Epoch 15/100\n",
      "1236/1236 [==============================] - 6s 5ms/step - loss: 0.2571 - accuracy: 0.8892 - precision: 0.8828 - val_loss: 0.2587 - val_accuracy: 0.8889 - val_precision: 0.8810\n",
      "Epoch 16/100\n",
      "1236/1236 [==============================] - 5s 4ms/step - loss: 0.2569 - accuracy: 0.8893 - precision: 0.8831 - val_loss: 0.2594 - val_accuracy: 0.8883 - val_precision: 0.8837\n",
      "Epoch 17/100\n",
      "1236/1236 [==============================] - 9s 7ms/step - loss: 0.2564 - accuracy: 0.8892 - precision: 0.8828 - val_loss: 0.2590 - val_accuracy: 0.8884 - val_precision: 0.8847\n",
      "Epoch 18/100\n",
      "1236/1236 [==============================] - 8s 6ms/step - loss: 0.2562 - accuracy: 0.8895 - precision: 0.8835 - val_loss: 0.2591 - val_accuracy: 0.8883 - val_precision: 0.8849\n",
      "Epoch 19/100\n",
      "1236/1236 [==============================] - 8s 7ms/step - loss: 0.2558 - accuracy: 0.8896 - precision: 0.8837 - val_loss: 0.2591 - val_accuracy: 0.8882 - val_precision: 0.8842\n",
      "Epoch 20/100\n",
      "1236/1236 [==============================] - 7s 6ms/step - loss: 0.2556 - accuracy: 0.8898 - precision: 0.8840 - val_loss: 0.2591 - val_accuracy: 0.8889 - val_precision: 0.8827\n"
     ]
    },
    {
     "data": {
      "text/plain": [
       "<keras.callbacks.History at 0x260d86fc340>"
      ]
     },
     "execution_count": 14,
     "metadata": {},
     "output_type": "execute_result"
    }
   ],
   "source": [
    "import pandas as pd\n",
    "import tensorflow as tf\n",
    "from tensorflow.keras.models import Sequential\n",
    "from tensorflow.keras.layers import Dense, Activation,Dropout\n",
    "from tensorflow.keras.constraints import max_norm\n",
    "from tensorflow.keras.models import load_model\n",
    "from tensorflow.keras.callbacks import EarlyStopping\n",
    "\n",
    "# Define model\n",
    "model = Sequential()\n",
    "\n",
    "model.add(Dense(80,  activation='relu'))\n",
    "model.add(Dropout(0.1))\n",
    "\n",
    "model.add(Dense(40, activation='relu'))\n",
    "model.add(Dropout(0.1))\n",
    "\n",
    "model.add(Dense(20, activation='relu'))\n",
    "model.add(Dropout(0.1))\n",
    "\n",
    "model.add(Dense(units=1,activation='sigmoid'))\n",
    "\n",
    "# Early stopping\n",
    "callback = EarlyStopping(monitor='val_loss', patience=5, start_from_epoch=10)\n",
    "\n",
    "# Compile model\n",
    "model.compile(loss='binary_crossentropy', optimizer='adam', metrics=['accuracy', tf.keras.metrics.Precision(), tf.keras.metrics.Recall()])\n",
    "\n",
    "# Fit model\n",
    "model.fit(x=X_train, \n",
    "          y=y_train, \n",
    "          epochs=100,\n",
    "          batch_size=256,\n",
    "          validation_data=(X_test, y_test), \n",
    "          callbacks=[callback]\n",
    "          )\n"
   ]
  },
  {
   "cell_type": "markdown",
   "metadata": {},
   "source": [
    "### Evaluate"
   ]
  },
  {
   "cell_type": "code",
   "execution_count": 30,
   "metadata": {},
   "outputs": [
    {
     "name": "stdout",
     "output_type": "stream",
     "text": [
      "Confusion Matrix : \n",
      " [[ 6915  8506]\n",
      " [  252 63371]]\n",
      "Accuracy :  0.8892009513688579\n",
      "Precision :  0.8816589451423961\n",
      "Recall :  0.9960391682253273\n",
      "F1 Score :  0.9353653136531366\n"
     ]
    }
   ],
   "source": [
    "# Evaluate model\n",
    "model.evaluate(X_test, y_test, verbose=2)"
   ]
  },
  {
   "cell_type": "code",
   "execution_count": null,
   "metadata": {},
   "outputs": [],
   "source": []
  }
 ],
 "metadata": {
  "kernelspec": {
   "display_name": "Python 3.10.5 64-bit",
   "language": "python",
   "name": "python3"
  },
  "language_info": {
   "codemirror_mode": {
    "name": "ipython",
    "version": 3
   },
   "file_extension": ".py",
   "mimetype": "text/x-python",
   "name": "python",
   "nbconvert_exporter": "python",
   "pygments_lexer": "ipython3",
   "version": "3.10.5"
  },
  "orig_nbformat": 4,
  "vscode": {
   "interpreter": {
    "hash": "369f2c481f4da34e4445cda3fffd2e751bd1c4d706f27375911949ba6bb62e1c"
   }
  }
 },
 "nbformat": 4,
 "nbformat_minor": 2
}
