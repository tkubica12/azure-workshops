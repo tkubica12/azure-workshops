{
 "cells": [
  {
   "cell_type": "markdown",
   "metadata": {},
   "source": [
    "# Interactive notebook used to prepare code parts for Azure ML"
   ]
  },
  {
   "cell_type": "markdown",
   "metadata": {},
   "source": [
    "### Reference model (always say yes)"
   ]
  },
  {
   "cell_type": "markdown",
   "metadata": {},
   "source": [
    "### Load data"
   ]
  },
  {
   "cell_type": "code",
   "execution_count": 2,
   "metadata": {},
   "outputs": [],
   "source": [
    "import pandas as pd\n",
    "import numpy as np"
   ]
  },
  {
   "cell_type": "code",
   "execution_count": 3,
   "metadata": {},
   "outputs": [],
   "source": [
    "# Load raw data\n",
    "X_train = np.loadtxt(\"./X_train.csv\", delimiter=\",\", dtype=float)\n",
    "X_test = np.loadtxt(\"./X_test.csv\", delimiter=\",\", dtype=float)\n",
    "y_train = np.loadtxt(\"./y_train.csv\", delimiter=\",\", dtype=float)\n",
    "y_test = np.loadtxt(\"./y_test.csv\", delimiter=\",\", dtype=float)"
   ]
  },
  {
   "cell_type": "markdown",
   "metadata": {},
   "source": [
    "### Evaluate"
   ]
  },
  {
   "cell_type": "code",
   "execution_count": 8,
   "metadata": {},
   "outputs": [
    {
     "name": "stdout",
     "output_type": "stream",
     "text": [
      "Confusion Matrix : \n",
      " [[    0 15421]\n",
      " [    0 63623]]\n",
      "Accuracy :  0.804906128232377\n",
      "Precision :  0.804906128232377\n",
      "Recall :  1.0\n",
      "F1 Score :  0.8919091310534321\n"
     ]
    }
   ],
   "source": [
    "from sklearn.metrics import confusion_matrix\n",
    "from sklearn.metrics import accuracy_score\n",
    "from sklearn.metrics import precision_score\n",
    "from sklearn.metrics import recall_score\n",
    "from sklearn.metrics import f1_score\n",
    "\n",
    "# Make predictions\n",
    "y_pred = np.ones(y_test.shape, dtype=np.int32)\n",
    "\n",
    "# Evaluate model\n",
    "print (\"Confusion Matrix : \\n\", confusion_matrix(y_test, y_pred))\n",
    "print (\"Accuracy : \", accuracy_score(y_test, y_pred))\n",
    "print (\"Precision : \", precision_score(y_test, y_pred))\n",
    "print (\"Recall : \", recall_score(y_test, y_pred))\n",
    "print (\"F1 Score : \", f1_score(y_test, y_pred))"
   ]
  },
  {
   "cell_type": "code",
   "execution_count": null,
   "metadata": {},
   "outputs": [],
   "source": []
  }
 ],
 "metadata": {
  "kernelspec": {
   "display_name": "Python 3.10.5 64-bit",
   "language": "python",
   "name": "python3"
  },
  "language_info": {
   "codemirror_mode": {
    "name": "ipython",
    "version": 3
   },
   "file_extension": ".py",
   "mimetype": "text/x-python",
   "name": "python",
   "nbconvert_exporter": "python",
   "pygments_lexer": "ipython3",
   "version": "3.10.5"
  },
  "orig_nbformat": 4,
  "vscode": {
   "interpreter": {
    "hash": "369f2c481f4da34e4445cda3fffd2e751bd1c4d706f27375911949ba6bb62e1c"
   }
  }
 },
 "nbformat": 4,
 "nbformat_minor": 2
}
