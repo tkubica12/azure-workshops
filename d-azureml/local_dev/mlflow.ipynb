{
 "cells": [
  {
   "cell_type": "markdown",
   "metadata": {},
   "source": [
    "# Interactive notebook used to prepare code parts for Azure ML"
   ]
  },
  {
   "cell_type": "markdown",
   "metadata": {},
   "source": [
    "### Test MLFlow SDK "
   ]
  },
  {
   "cell_type": "code",
   "execution_count": 2,
   "metadata": {},
   "outputs": [],
   "source": [
    "mlflow_tracking_uri = \"azureml://northeurope.api.azureml.ms/mlflow/v1.0/subscriptions/d3b7888f-c26e-4961-a976-ff9d5b31dfd3/resourceGroups/d-azurelm/providers/Microsoft.MachineLearningServices/workspaces/aml-k8y9gydj\""
   ]
  },
  {
   "cell_type": "code",
   "execution_count": 3,
   "metadata": {},
   "outputs": [],
   "source": [
    "import mlflow\n"
   ]
  },
  {
   "cell_type": "code",
   "execution_count": 4,
   "metadata": {},
   "outputs": [],
   "source": [
    "mlflow.set_tracking_uri(mlflow_tracking_uri)"
   ]
  },
  {
   "cell_type": "code",
   "execution_count": 17,
   "metadata": {},
   "outputs": [],
   "source": [
    "from mlflow.tracking import MlflowClient\n",
    "\n",
    "# experiment_name = 'lendingclub-demo-experiment'\n",
    "# client = MlflowClient()\n",
    "\n",
    "# exp = mlflow.get_experiment_by_name(experiment_name)\n",
    "# print(exp)\n",
    "\n",
    "# runs = mlflow.search_runs(experiment_names=experiment_name)\n",
    "# print(runs[-1])\n",
    "\n",
    "experiment_name = 'lendingclub-demo-experiment'\n",
    "run_id = 'magenta_drawer_9k80sm4w8m'\n",
    "filter_string = f\"tags.mlflow.rootRunId='{run_id}'\"\n",
    "# runs2 = mlflow.search_runs(experiment_names=experiment_name, filter_string=filter_string)\n",
    "runs = mlflow.search_runs(experiment_names=experiment_name, filter_string=filter_string, order_by=[\"metrics.val_accuracy\"])\n",
    "# runs = mlflow.search_runs(experiment_ids=None, search_all_experiments=True, filter_string=filter_string)\n",
    "\n",
    "# print(finished_mlflow_run)\n",
    "# metrics = finished_mlflow_run.data.metrics\n",
    "# tags = finished_mlflow_run.data.tags\n",
    "# params = finished_mlflow_run.data.params\n",
    "\n",
    "# print(metrics,tags,params)"
   ]
  },
  {
   "cell_type": "code",
   "execution_count": 20,
   "metadata": {},
   "outputs": [
    {
     "data": {
      "text/html": [
       "<div>\n",
       "<style scoped>\n",
       "    .dataframe tbody tr th:only-of-type {\n",
       "        vertical-align: middle;\n",
       "    }\n",
       "\n",
       "    .dataframe tbody tr th {\n",
       "        vertical-align: top;\n",
       "    }\n",
       "\n",
       "    .dataframe thead th {\n",
       "        text-align: right;\n",
       "    }\n",
       "</style>\n",
       "<table border=\"1\" class=\"dataframe\">\n",
       "  <thead>\n",
       "    <tr style=\"text-align: right;\">\n",
       "      <th></th>\n",
       "      <th>run_id</th>\n",
       "      <th>experiment_id</th>\n",
       "      <th>status</th>\n",
       "      <th>artifact_uri</th>\n",
       "      <th>start_time</th>\n",
       "      <th>end_time</th>\n",
       "    </tr>\n",
       "  </thead>\n",
       "  <tbody>\n",
       "  </tbody>\n",
       "</table>\n",
       "</div>"
      ],
      "text/plain": [
       "Empty DataFrame\n",
       "Columns: [run_id, experiment_id, status, artifact_uri, start_time, end_time]\n",
       "Index: []"
      ]
     },
     "metadata": {},
     "output_type": "display_data"
    }
   ],
   "source": [
    "display(runs)"
   ]
  },
  {
   "cell_type": "code",
   "execution_count": 31,
   "metadata": {},
   "outputs": [
    {
     "name": "stdout",
     "output_type": "stream",
     "text": [
      "Best run id: HD_e3040f1e-de19-4348-bcc7-d5cbd78d8236_0\n",
      "Best metric: 0.8878837823867798\n"
     ]
    }
   ],
   "source": [
    "# Get best model\n",
    "best_model = runs2[[\"run_id\", \"metrics.val_accuracy\"]].sort_values(by=\"metrics.val_accuracy\", ascending=False).head(1)\n",
    "best_run_id = best_model[\"run_id\"].iloc[0]\n",
    "best_metric = best_model[\"metrics.val_accuracy\"].iloc[0]\n",
    "\n",
    "print(f\"Best run id: {best_run_id}\")\n",
    "print(f\"Best metric: {best_metric}\")"
   ]
  },
  {
   "cell_type": "code",
   "execution_count": 32,
   "metadata": {},
   "outputs": [
    {
     "name": "stderr",
     "output_type": "stream",
     "text": [
      "Successfully registered model 'best_model'.\n",
      "2022/12/16 13:23:59 INFO mlflow.tracking._model_registry.client: Waiting up to 300 seconds for model version to finish creation.                     Model name: best_model, version 1\n",
      "Created version '1' of model 'best_model'.\n"
     ]
    }
   ],
   "source": [
    "# Register model\n",
    "model_name = \"best_model\"\n",
    "model_path = f\"runs:/{best_run_id}/model\"\n",
    "model = mlflow.register_model(model_uri=model_path, name=model_name)"
   ]
  },
  {
   "cell_type": "code",
   "execution_count": null,
   "metadata": {},
   "outputs": [],
   "source": []
  }
 ],
 "metadata": {
  "kernelspec": {
   "display_name": "Python 3.10.5 64-bit",
   "language": "python",
   "name": "python3"
  },
  "language_info": {
   "codemirror_mode": {
    "name": "ipython",
    "version": 3
   },
   "file_extension": ".py",
   "mimetype": "text/x-python",
   "name": "python",
   "nbconvert_exporter": "python",
   "pygments_lexer": "ipython3",
   "version": "3.10.5"
  },
  "orig_nbformat": 4,
  "vscode": {
   "interpreter": {
    "hash": "369f2c481f4da34e4445cda3fffd2e751bd1c4d706f27375911949ba6bb62e1c"
   }
  }
 },
 "nbformat": 4,
 "nbformat_minor": 2
}
