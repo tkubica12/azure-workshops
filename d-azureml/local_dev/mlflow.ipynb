{
 "cells": [
  {
   "cell_type": "markdown",
   "metadata": {},
   "source": [
    "# Interactive notebook used to prepare code parts for Azure ML"
   ]
  },
  {
   "cell_type": "markdown",
   "metadata": {},
   "source": [
    "### Test MLFlow SDK "
   ]
  },
  {
   "cell_type": "code",
   "execution_count": 1,
   "metadata": {},
   "outputs": [],
   "source": [
    "mlflow_tracking_uri = \"azureml://northeurope.api.azureml.ms/mlflow/v1.0/subscriptions/d3b7888f-c26e-4961-a976-ff9d5b31dfd3/resourceGroups/d-azurelm/providers/Microsoft.MachineLearningServices/workspaces/aml-9cxgm0wt\""
   ]
  },
  {
   "cell_type": "code",
   "execution_count": 2,
   "metadata": {},
   "outputs": [],
   "source": [
    "import mlflow\n"
   ]
  },
  {
   "cell_type": "code",
   "execution_count": 3,
   "metadata": {},
   "outputs": [],
   "source": [
    "mlflow.set_tracking_uri(mlflow_tracking_uri)"
   ]
  },
  {
   "cell_type": "code",
   "execution_count": 8,
   "metadata": {},
   "outputs": [],
   "source": [
    "from mlflow.tracking import MlflowClient\n",
    "\n",
    "# experiment_name = 'lendingclub-demo-experiment'\n",
    "# client = MlflowClient()\n",
    "\n",
    "# exp = mlflow.get_experiment_by_name(experiment_name)\n",
    "# print(exp)\n",
    "\n",
    "# runs = mlflow.search_runs(experiment_names=experiment_name)\n",
    "# print(runs[-1])\n",
    "\n",
    "experiment_name = 'lendingclub-demo-experiment'\n",
    "run_id = 'magenta_drawer_9k80sm4w8m'\n",
    "filter_string = f\"tags.mlflow.rootRunId='{run_id}'\"\n",
    "# runs2 = mlflow.search_runs(experiment_names=experiment_name, filter_string=filter_string)\n",
    "runs = mlflow.search_runs(experiment_names=experiment_name, filter_string=filter_string)\n",
    "# runs = mlflow.search_runs(experiment_ids=None, search_all_experiments=True, filter_string=filter_string)\n",
    "\n",
    "# print(finished_mlflow_run)\n",
    "# metrics = finished_mlflow_run.data.metrics\n",
    "# tags = finished_mlflow_run.data.tags\n",
    "# params = finished_mlflow_run.data.params\n",
    "\n",
    "# print(metrics,tags,params)"
   ]
  },
  {
   "cell_type": "code",
   "execution_count": 14,
   "metadata": {},
   "outputs": [
    {
     "name": "stdout",
     "output_type": "stream",
     "text": [
      "    metrics.val_accuracy tags.estimator_name     tags.hyperparameters\n",
      "8               0.887884                None        {\"dropout\": 0.01}\n",
      "9               0.887707                None         {\"dropout\": 0.2}\n",
      "10              0.887669                None         {\"dropout\": 0.1}\n",
      "11              0.887492                None         {\"dropout\": 0.5}\n",
      "7               0.804400                None                     None\n",
      "0                    NaN                None                     None\n",
      "1                    NaN                None                     None\n",
      "2                    NaN                None                     None\n",
      "3                    NaN                None                     None\n",
      "4                    NaN                None                     None\n",
      "5                    NaN                None                     None\n",
      "6                    NaN                None                     None\n",
      "12                   NaN  LogisticRegression      {\"solver\": \"lbfgs\"}\n",
      "13                   NaN  LogisticRegression  {\"solver\": \"newton-cg\"}\n",
      "14                   NaN  LogisticRegression        {\"solver\": \"sag\"}\n",
      "15                   NaN  LogisticRegression       {\"solver\": \"saga\"}\n"
     ]
    }
   ],
   "source": [
    "print(runs[[\"metrics.val_accuracy\", \"tags.estimator_name\", \"tags.hyperparameters\"]].sort_values(by=\"metrics.val_accuracy\", ascending=False))"
   ]
  },
  {
   "cell_type": "code",
   "execution_count": 31,
   "metadata": {},
   "outputs": [
    {
     "name": "stdout",
     "output_type": "stream",
     "text": [
      "Best run id: HD_e3040f1e-de19-4348-bcc7-d5cbd78d8236_0\n",
      "Best metric: 0.8878837823867798\n"
     ]
    }
   ],
   "source": [
    "# Get best model\n",
    "best_model = runs2[[\"run_id\", \"metrics.val_accuracy\"]].sort_values(by=\"metrics.val_accuracy\", ascending=False).head(1)\n",
    "best_run_id = best_model[\"run_id\"].iloc[0]\n",
    "best_metric = best_model[\"metrics.val_accuracy\"].iloc[0]\n",
    "\n",
    "print(f\"Best run id: {best_run_id}\")\n",
    "print(f\"Best metric: {best_metric}\")"
   ]
  },
  {
   "cell_type": "code",
   "execution_count": 32,
   "metadata": {},
   "outputs": [
    {
     "name": "stderr",
     "output_type": "stream",
     "text": [
      "Successfully registered model 'best_model'.\n",
      "2022/12/16 13:23:59 INFO mlflow.tracking._model_registry.client: Waiting up to 300 seconds for model version to finish creation.                     Model name: best_model, version 1\n",
      "Created version '1' of model 'best_model'.\n"
     ]
    }
   ],
   "source": [
    "# Register model\n",
    "model_name = \"best_model\"\n",
    "model_path = f\"runs:/{best_run_id}/model\"\n",
    "model = mlflow.register_model(model_uri=model_path, name=model_name)"
   ]
  },
  {
   "cell_type": "code",
   "execution_count": 33,
   "metadata": {},
   "outputs": [
    {
     "name": "stdout",
     "output_type": "stream",
     "text": [
      "Latest version of model landing_club is 3\n"
     ]
    }
   ],
   "source": [
    "# Get latest version of registered model\n",
    "client = mlflow.MlflowClient()\n",
    "\n",
    "model_name = \"landing_club\"\n",
    "model_version = client.get_registered_model(model_name).latest_versions[0].version\n",
    "\n",
    "print(f\"Latest version of model {model_name} is {model_version}\")"
   ]
  },
  {
   "cell_type": "code",
   "execution_count": 47,
   "metadata": {},
   "outputs": [
    {
     "data": {
      "text/plain": [
       "'3'"
      ]
     },
     "execution_count": 47,
     "metadata": {},
     "output_type": "execute_result"
    }
   ],
   "source": []
  },
  {
   "cell_type": "code",
   "execution_count": null,
   "metadata": {},
   "outputs": [],
   "source": []
  },
  {
   "cell_type": "code",
   "execution_count": 34,
   "metadata": {},
   "outputs": [],
   "source": [
    "# Deploy model\n",
    "import json\n",
    "\n",
    "deploy_config = {\n",
    "   \"instance_type\": \"Standard_DS2_v2\",\n",
    "   \"instance_count\": 1,\n",
    "}\n",
    "\n",
    "deployment_config_path = \"deployment_config.json\"\n",
    "with open(deployment_config_path, \"w\") as outfile:\n",
    "   outfile.write(json.dumps(deploy_config))"
   ]
  },
  {
   "cell_type": "code",
   "execution_count": 37,
   "metadata": {},
   "outputs": [
    {
     "name": "stdout",
     "output_type": "stream",
     "text": [
      ".................................................................................."
     ]
    },
    {
     "data": {
      "text/plain": [
       "{'id': '/subscriptions/d3b7888f-c26e-4961-a976-ff9d5b31dfd3/resourceGroups/d-azurelm/providers/Microsoft.MachineLearningServices/workspaces/aml-9cxgm0wt/onlineEndpoints/landing-club-3/deployments/landing-club-3',\n",
       " 'name': 'landing-club-3',\n",
       " 'type': 'Microsoft.MachineLearningServices/workspaces/onlineEndpoints/deployments',\n",
       " 'systemData': {'createdBy': 'admin',\n",
       "  'createdAt': '2022-12-21T19:44:36.984591Z',\n",
       "  'lastModifiedAt': '2022-12-21T19:44:36.984591Z'},\n",
       " 'tags': {},\n",
       " 'location': 'northeurope',\n",
       " 'kind': 'Managed',\n",
       " 'properties': {'environmentVariables': {},\n",
       "  'properties': {'AzureAsyncOperationUri': 'https://management.azure.com/subscriptions/d3b7888f-c26e-4961-a976-ff9d5b31dfd3/providers/Microsoft.MachineLearningServices/locations/northeurope/mfeOperationsStatus/od:e9441137-e369-431b-aac4-019e675f4683:b7109dee-6761-4bb5-b07a-cd2cd5416053?api-version=2022-02-01-preview'},\n",
       "  'appInsightsEnabled': False,\n",
       "  'egressPublicNetworkAccess': 'Enabled',\n",
       "  'endpointComputeType': 'Managed',\n",
       "  'instanceType': 'Standard_DS2_v2',\n",
       "  'livenessProbe': {'failureThreshold': 30,\n",
       "   'initialDelay': 'PT10S',\n",
       "   'period': 'PT10S',\n",
       "   'successThreshold': 1,\n",
       "   'timeout': 'PT2S'},\n",
       "  'model': '/subscriptions/d3b7888f-c26e-4961-a976-ff9d5b31dfd3/resourceGroups/d-azurelm/providers/Microsoft.MachineLearningServices/workspaces/aml-9cxgm0wt/models/landing_club/versions/3',\n",
       "  'privateNetworkConnection': False,\n",
       "  'provisioningState': 'Succeeded',\n",
       "  'readinessProbe': {'failureThreshold': 30,\n",
       "   'initialDelay': 'PT10S',\n",
       "   'period': 'PT10S',\n",
       "   'successThreshold': 1,\n",
       "   'timeout': 'PT2S'},\n",
       "  'requestSettings': {'maxConcurrentRequestsPerInstance': 1,\n",
       "   'maxQueueWait': 'P0D',\n",
       "   'requestTimeout': 'PT5S'},\n",
       "  'scaleSettings': {'scaleType': 'Default'}},\n",
       " 'sku': {'name': 'Default', 'tier': 'Standard', 'capacity': 1},\n",
       " 'flavor': 'python_function'}"
      ]
     },
     "execution_count": 37,
     "metadata": {},
     "output_type": "execute_result"
    }
   ],
   "source": [
    "from mlflow.deployments import get_deploy_client\n",
    "\n",
    "deploy_client = get_deploy_client(client.tracking_uri)\n",
    "\n",
    "deploy_client.create_deployment(\n",
    "   model_uri=f\"models:/{model_name}/{model_version}\",\n",
    "   config={ \"deploy-config-file\": deployment_config_path },\n",
    "   name=f\"landing-club-{model_version}\",\n",
    ")"
   ]
  },
  {
   "cell_type": "code",
   "execution_count": null,
   "metadata": {},
   "outputs": [],
   "source": []
  }
 ],
 "metadata": {
  "kernelspec": {
   "display_name": "Python 3.10.5 64-bit",
   "language": "python",
   "name": "python3"
  },
  "language_info": {
   "codemirror_mode": {
    "name": "ipython",
    "version": 3
   },
   "file_extension": ".py",
   "mimetype": "text/x-python",
   "name": "python",
   "nbconvert_exporter": "python",
   "pygments_lexer": "ipython3",
   "version": "3.10.5"
  },
  "orig_nbformat": 4,
  "vscode": {
   "interpreter": {
    "hash": "369f2c481f4da34e4445cda3fffd2e751bd1c4d706f27375911949ba6bb62e1c"
   }
  }
 },
 "nbformat": 4,
 "nbformat_minor": 2
}
